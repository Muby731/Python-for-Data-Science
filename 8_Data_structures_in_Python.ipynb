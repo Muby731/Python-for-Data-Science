{
  "cells": [
    {
      "cell_type": "markdown",
      "metadata": {
        "id": "1h__F05n0cYN"
      },
      "source": [
        "# Practice Exercise"
      ]
    },
    {
      "cell_type": "markdown",
      "metadata": {
        "id": "qEzf6y1409zw"
      },
      "source": [
        "Question 1: Print a random integer between 100 and 135"
      ]
    },
    {
      "cell_type": "code",
      "execution_count": 2,
      "metadata": {
        "colab": {
          "base_uri": "https://localhost:8080/"
        },
        "id": "yisQGrBd0bzN",
        "outputId": "867d3b7a-9edf-4d36-e3a7-c7776cee5aa3"
      },
      "outputs": [
        {
          "output_type": "stream",
          "name": "stdout",
          "text": [
            "118\n"
          ]
        }
      ],
      "source": [
        "# Import required libraries:\n",
        "from random import seed\n",
        "from random import randint\n",
        "# Print a random integer in the given range:\n",
        "print(randint(100,135))"
      ]
    },
    {
      "cell_type": "markdown",
      "metadata": {
        "id": "vxC8oK_G1w_O"
      },
      "source": [
        "Question 2: Create a list consisting of first 10 even numbers."
      ]
    },
    {
      "cell_type": "code",
      "execution_count": 5,
      "metadata": {
        "colab": {
          "base_uri": "https://localhost:8080/"
        },
        "id": "CQ9oPVOf1UZB",
        "outputId": "64826239-7d0c-499a-ad78-8b00f33e797a"
      },
      "outputs": [
        {
          "output_type": "stream",
          "name": "stdout",
          "text": [
            "[0, 2, 4, 6, 8, 10, 12, 14, 16, 18]\n"
          ]
        }
      ],
      "source": [
        "# Create a list according to the given condition:\n",
        "even = list(range(0,20,2))\n",
        "print(even)"
      ]
    },
    {
      "cell_type": "markdown",
      "metadata": {
        "id": "GP-3AHb52piM"
      },
      "source": [
        "Question 3: Create a list in the following manner: [birthyear, firstname, birthdate, lastname]"
      ]
    },
    {
      "cell_type": "code",
      "execution_count": null,
      "metadata": {
        "id": "D3bKLI8z2lSx"
      },
      "outputs": [],
      "source": [
        "# Create a list according to the given condition:\n",
        "list_1 = list[2001, 'Mubashra', 7, 'Ali']"
      ]
    },
    {
      "cell_type": "markdown",
      "metadata": {
        "id": "iKABjdd73bSO"
      },
      "source": [
        "Question 4: Create a nested list which consist of 2 students and their scores in mathematics and english:\n",
        "\n",
        "Students: Alex and Cody\n",
        "\n",
        "Alex scores 97 and 95 in mathematics and english respectively,\n",
        "\n",
        "Cody scores 89 and 92 in mathematics and english respectively.\n",
        "\n",
        "The list should be such that it first stores the name of students followed by the subjects and then their scores in nested lists."
      ]
    },
    {
      "cell_type": "code",
      "execution_count": 6,
      "metadata": {
        "colab": {
          "base_uri": "https://localhost:8080/"
        },
        "id": "oyaA3mz73Zds",
        "outputId": "4659ea94-f7d0-4db2-ce45-cd2a511bc689"
      },
      "outputs": [
        {
          "output_type": "stream",
          "name": "stdout",
          "text": [
            "[['Alex', 'Cody'], ['Mathematics', 'English'], [97, 95], [89, 92]]\n"
          ]
        }
      ],
      "source": [
        "# Create a list according to the given condition:\n",
        "nest_list = [['Alex','Cody'], ['Mathematics', 'English'], [97,95], [89,92]]\n",
        "print(nest_list)"
      ]
    },
    {
      "cell_type": "markdown",
      "metadata": {
        "id": "jycP6fUg4njv"
      },
      "source": [
        "Question 5: Given below is a list, find out whether is has the letter 'k' in it and print the result as true or false."
      ]
    },
    {
      "cell_type": "code",
      "execution_count": 9,
      "metadata": {
        "colab": {
          "base_uri": "https://localhost:8080/"
        },
        "id": "r-05TqnN4hub",
        "outputId": "df0223f9-f21e-46a5-a7fb-fcc81f61428d"
      },
      "outputs": [
        {
          "output_type": "stream",
          "name": "stdout",
          "text": [
            "True\n"
          ]
        }
      ],
      "source": [
        "# Given below is a list:\n",
        "list3=[1,2,'r',7,'k',6,'o','h','d',5,9]\n",
        "\n",
        "# Define the character you are searching for:\n",
        "char = 'k'\n",
        "# print the result:\n",
        "print(char in list3)"
      ]
    },
    {
      "cell_type": "markdown",
      "metadata": {
        "id": "NT-4hspO55TH"
      },
      "source": [
        "Question 6: In the tuple given below, print the 3rd element."
      ]
    },
    {
      "cell_type": "code",
      "execution_count": 11,
      "metadata": {
        "colab": {
          "base_uri": "https://localhost:8080/"
        },
        "id": "J-CCGlN56gea",
        "outputId": "7804ebfd-8c59-4aca-e0db-c3110534a640"
      },
      "outputs": [
        {
          "output_type": "stream",
          "name": "stdout",
          "text": [
            "world\n"
          ]
        }
      ],
      "source": [
        "# Given below is the tuple:\n",
        "tuple1=(1,'hello','world','567')\n",
        "\n",
        "# Print the 3rd element:\n",
        "print(tuple1[2])"
      ]
    },
    {
      "cell_type": "markdown",
      "metadata": {
        "id": "wx6WT1K255WN"
      },
      "source": [
        "Question 7: Given below is a tuple. Sort the tuple and print the result."
      ]
    },
    {
      "cell_type": "code",
      "execution_count": 13,
      "metadata": {
        "colab": {
          "base_uri": "https://localhost:8080/"
        },
        "id": "VWmBEUud7MQ4",
        "outputId": "26e233d5-d3be-4f0d-c8e7-79621ff5182f"
      },
      "outputs": [
        {
          "output_type": "stream",
          "name": "stdout",
          "text": [
            "[1, 3, 25, 54, 67, 100]\n"
          ]
        }
      ],
      "source": [
        "# Given below is the tuple:\n",
        "tuple2=(1,25,67,100,3,54)\n",
        "\n",
        "# Sort the tuple:\n",
        "result = sorted(tuple2)\n",
        "# Print the result:\n",
        "print(result)"
      ]
    },
    {
      "cell_type": "markdown",
      "metadata": {
        "id": "nSSJcxQJ55ZU"
      },
      "source": [
        "Question 8: Given below is a list, convert into a set and print the output also print the length of the set."
      ]
    },
    {
      "cell_type": "code",
      "execution_count": 14,
      "metadata": {
        "colab": {
          "base_uri": "https://localhost:8080/"
        },
        "id": "m8CcJfyB87eP",
        "outputId": "59ef8f22-86b0-4d8f-acad-b6d18c958ffc"
      },
      "outputs": [
        {
          "output_type": "stream",
          "name": "stdout",
          "text": [
            "{1, 2, 3, 4, 5, 6, 7}\n",
            "7\n"
          ]
        }
      ],
      "source": [
        "# Given below is the list:\n",
        "list4=[1,2,4,6,3,2,5,4,7,4,6,5,3,2,2,1]\n",
        "\n",
        "# Convert the list into set:\n",
        "set4= set(list4)\n",
        "# Print the result:\n",
        "print(set4)\n",
        "# Print the length of the set:\n",
        "print(len(set4))"
      ]
    },
    {
      "cell_type": "markdown",
      "metadata": {
        "id": "lbbGNfhh55cy"
      },
      "source": [
        "Question 9: Given below are two sets, perform the operations given below:\n",
        "1. Print their union\n",
        "2. Print their intersection\n",
        "3. Print their difference\n",
        "4. Print their symmetric difference"
      ]
    },
    {
      "cell_type": "code",
      "execution_count": 15,
      "metadata": {
        "colab": {
          "base_uri": "https://localhost:8080/"
        },
        "id": "04IIzknZ9-ZP",
        "outputId": "1ce156e5-a649-4b14-f4d1-e0b3ca12056d"
      },
      "outputs": [
        {
          "output_type": "stream",
          "name": "stdout",
          "text": [
            "Union = {1, 2, 3, 4, 5, 6, 7, 8, 9}\n",
            "Intersection = {2, 3, 5}\n",
            "Difference = {1, 6, 7}\n",
            "Symmetric Difference = {1, 4, 6, 7, 8, 9}\n"
          ]
        }
      ],
      "source": [
        "# Given below are two sets:\n",
        "a={1,2,3,5,6,7}\n",
        "b={4,5,8,9,2,3}\n",
        "\n",
        "# Print their union:\n",
        "print(f\"Union = {a.union(b)}\")\n",
        "# Print their intersection:\n",
        "print(f\"Intersection = {a.intersection(b)}\")\n",
        "# Print their difference:\n",
        "print(f\"Difference = {a.difference(b)}\")\n",
        "# Print their symmetric difference:\n",
        "print(f\"Symmetric Difference = {a.symmetric_difference(b)}\")"
      ]
    },
    {
      "cell_type": "code",
      "source": [
        "print(f\"Another way to calculate symmetric difference - a^b = {a^b}\")"
      ],
      "metadata": {
        "colab": {
          "base_uri": "https://localhost:8080/"
        },
        "id": "cdIPzheTrAm2",
        "outputId": "b5b08328-8eca-4de2-84da-e2e7ed0dfed5"
      },
      "execution_count": 16,
      "outputs": [
        {
          "output_type": "stream",
          "name": "stdout",
          "text": [
            "Another way to calculate symmetric difference - a^b = {1, 4, 6, 7, 8, 9}\n"
          ]
        }
      ]
    },
    {
      "cell_type": "markdown",
      "metadata": {
        "id": "aNFcEjza55fq"
      },
      "source": [
        "Question 10: Create a dictionary that stores the names and roll numbers of 5 students as given below:\n",
        "1. Sam, 21\n",
        "2. Cody, 12\n",
        "3. Addy, 3\n",
        "4. Zach, 45\n",
        "5. Amy, 6"
      ]
    },
    {
      "cell_type": "code",
      "execution_count": 21,
      "metadata": {
        "colab": {
          "base_uri": "https://localhost:8080/"
        },
        "id": "Wf2kp70A_IfD",
        "outputId": "45d114d4-22c0-4c22-dc43-12815783a368"
      },
      "outputs": [
        {
          "output_type": "stream",
          "name": "stdout",
          "text": [
            "{'Sam': 21, 'Cody': 12, 'Addy': 3, 'Zach': 45, 'Amy': 6}\n"
          ]
        }
      ],
      "source": [
        "# Create a dictionary:\n",
        "d1 = {'Sam': 21, 'Cody': 12, 'Addy': 3, 'Zach': 45, 'Amy': 6 }\n",
        "# Print the result:\n",
        "print(d1)"
      ]
    },
    {
      "cell_type": "markdown",
      "metadata": {
        "id": "iFKlCBIA5WjL"
      },
      "source": [
        "Question 11: Due to admission of new students the roll number of zach has changed from 45 to 47. Make the required changes and print the new dictionary."
      ]
    },
    {
      "cell_type": "code",
      "execution_count": 22,
      "metadata": {
        "colab": {
          "base_uri": "https://localhost:8080/"
        },
        "id": "rE_fsHnYEZFk",
        "outputId": "98931fe5-b817-454d-df03-cd6322297506"
      },
      "outputs": [
        {
          "output_type": "stream",
          "name": "stdout",
          "text": [
            "{'Sam': 21, 'Cody': 12, 'Addy': 3, 'Zach': 47, 'Amy': 6}\n"
          ]
        }
      ],
      "source": [
        "# Update the roll number:\n",
        "d1['Zach'] = 47\n",
        "# Print the new dictionary:\n",
        "print(d1)"
      ]
    },
    {
      "cell_type": "markdown",
      "metadata": {
        "id": "MyrZDHMl55ir"
      },
      "source": [
        "Question 12: Sort the dictionary according to roll number.\n"
      ]
    },
    {
      "cell_type": "code",
      "execution_count": 28,
      "metadata": {
        "colab": {
          "base_uri": "https://localhost:8080/"
        },
        "id": "NrdUqjkvEpRC",
        "outputId": "7443503d-c322-4039-e6f5-d22fd25c0991"
      },
      "outputs": [
        {
          "output_type": "stream",
          "name": "stdout",
          "text": [
            "['Addy', 'Amy', 'Cody', 'Sam', 'Zach']\n"
          ]
        }
      ],
      "source": [
        "# Sort and print the students roll number wise in ascending order:\n",
        "print(sorted(d1))"
      ]
    },
    {
      "cell_type": "code",
      "source": [],
      "metadata": {
        "id": "S2qZK1rdsOmW"
      },
      "execution_count": null,
      "outputs": []
    }
  ],
  "metadata": {
    "colab": {
      "provenance": []
    },
    "kernelspec": {
      "display_name": "Python 3",
      "language": "python",
      "name": "python3"
    },
    "language_info": {
      "codemirror_mode": {
        "name": "ipython",
        "version": 3
      },
      "file_extension": ".py",
      "mimetype": "text/x-python",
      "name": "python",
      "nbconvert_exporter": "python",
      "pygments_lexer": "ipython3",
      "version": "3.7.4"
    }
  },
  "nbformat": 4,
  "nbformat_minor": 0
}