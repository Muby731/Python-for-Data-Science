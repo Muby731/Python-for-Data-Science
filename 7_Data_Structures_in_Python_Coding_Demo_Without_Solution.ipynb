{
  "cells": [
    {
      "cell_type": "markdown",
      "metadata": {
        "id": "xQOAOCtFuXU7"
      },
      "source": [
        "# Session 2: Data Structures in Python"
      ]
    },
    {
      "cell_type": "markdown",
      "metadata": {
        "id": "Rb3S_LKa4hoK"
      },
      "source": [
        "## Lists"
      ]
    },
    {
      "cell_type": "code",
      "execution_count": 1,
      "metadata": {
        "id": "ELmT2DV7Yay5"
      },
      "outputs": [],
      "source": [
        "## User info in lists instead of separate variables\n",
        "user1 = ['Alice Kim', 1965, 58]"
      ]
    },
    {
      "cell_type": "code",
      "execution_count": 2,
      "metadata": {
        "colab": {
          "base_uri": "https://localhost:8080/"
        },
        "id": "oVt3nX7PwnNf",
        "outputId": "403e91ba-aa09-48dc-c33a-d55337139729"
      },
      "outputs": [
        {
          "output_type": "stream",
          "name": "stdout",
          "text": [
            "The user_id for the user Alice Kim with year of birth 1965 and age 58 is Alice Kim196558\n"
          ]
        }
      ],
      "source": [
        "# Extract user id from lists\n",
        "user_id = user1[0] + str(user1[1]) + str(user1[2])\n",
        "print(\"The user_id for the user {0} with year of birth {1} and age {2} is {3}\".format(user1[0], user1[1], user1[2], user_id))"
      ]
    },
    {
      "cell_type": "code",
      "execution_count": 3,
      "metadata": {
        "id": "ZTnq3g4OxHl5"
      },
      "outputs": [],
      "source": [
        "# Present info for multiple users and store the info as nested lists\n",
        "user_list = [['Alice Kim', 'Eric Lee', 'Paul Kim', 'Ben Kim', 'Brian Wu'],\n",
        "           [1965, 1983, 1994, 1972, 1994],\n",
        "           [58, 40, 29, 51, 29]]"
      ]
    },
    {
      "cell_type": "code",
      "execution_count": 4,
      "metadata": {
        "colab": {
          "base_uri": "https://localhost:8080/"
        },
        "id": "3nhaTu0T3N6B",
        "outputId": "bddc17b1-76c8-4b43-ddf9-a304b0fb0aa6"
      },
      "outputs": [
        {
          "output_type": "execute_result",
          "data": {
            "text/plain": [
              "[['Alice Kim', 'Eric Lee', 'Paul Kim', 'Ben Kim', 'Brian Wu'],\n",
              " [1965, 1983, 1994, 1972, 1994],\n",
              " [58, 40, 29, 51, 29]]"
            ]
          },
          "metadata": {},
          "execution_count": 4
        }
      ],
      "source": [
        "user_list"
      ]
    },
    {
      "cell_type": "code",
      "execution_count": 5,
      "metadata": {
        "colab": {
          "base_uri": "https://localhost:8080/"
        },
        "id": "rtxrYvXBe_GF",
        "outputId": "df5f487f-aca4-48bf-aa4b-888cdcfb3c8a"
      },
      "outputs": [
        {
          "output_type": "execute_result",
          "data": {
            "text/plain": [
              "3"
            ]
          },
          "metadata": {},
          "execution_count": 5
        }
      ],
      "source": [
        "# Number of data fields\n",
        "len(user_list)"
      ]
    },
    {
      "cell_type": "code",
      "execution_count": 6,
      "metadata": {
        "colab": {
          "base_uri": "https://localhost:8080/"
        },
        "id": "6NNGo14Ves4t",
        "outputId": "12f7ce45-f1e1-4796-b782-842b20f974bf"
      },
      "outputs": [
        {
          "output_type": "execute_result",
          "data": {
            "text/plain": [
              "5"
            ]
          },
          "metadata": {},
          "execution_count": 6
        }
      ],
      "source": [
        "# Number of users\n",
        "len(user_list[0])"
      ]
    },
    {
      "cell_type": "code",
      "execution_count": 7,
      "metadata": {
        "colab": {
          "base_uri": "https://localhost:8080/"
        },
        "id": "Xfye4MSDzK-l",
        "outputId": "fb57c5f0-9e10-460e-cda6-ef589fb2c554"
      },
      "outputs": [
        {
          "output_type": "stream",
          "name": "stdout",
          "text": [
            "[['Alice Kim', 'Eric Lee', 'Paul Kim', 'Ben Kim', 'Brian Wu'], [1965, 1983, 1994, 1972, 1994], [58, 40, 29, 51, 29], [True, True, False, False, True]]\n"
          ]
        }
      ],
      "source": [
        "# Add one more list to the nested list\n",
        "user_list.append([True, True, False, False, True])\n",
        "print(user_list)"
      ]
    },
    {
      "cell_type": "code",
      "execution_count": 8,
      "metadata": {
        "colab": {
          "base_uri": "https://localhost:8080/"
        },
        "id": "HsS6MeNBz1yP",
        "outputId": "21eb7a20-bdee-4ef3-da63-2914255a506f"
      },
      "outputs": [
        {
          "output_type": "execute_result",
          "data": {
            "text/plain": [
              "['Alice Kim', 'Eric Lee', 'Paul Kim', 'Ben Kim', 'Brian Wu']"
            ]
          },
          "metadata": {},
          "execution_count": 8
        }
      ],
      "source": [
        "# Extract the names list from the nested list\n",
        "names = user_list[0]\n",
        "names"
      ]
    },
    {
      "cell_type": "code",
      "execution_count": 9,
      "metadata": {
        "colab": {
          "base_uri": "https://localhost:8080/"
        },
        "id": "2mdxTRQiz7Gr",
        "outputId": "5b528f61-9a3a-406f-b2ea-db5404365fb3"
      },
      "outputs": [
        {
          "output_type": "execute_result",
          "data": {
            "text/plain": [
              "[58, 40, 29, 51, 29]"
            ]
          },
          "metadata": {},
          "execution_count": 9
        }
      ],
      "source": [
        "# Extract the ages list from the nested list\n",
        "ages = user_list[2]\n",
        "ages"
      ]
    },
    {
      "cell_type": "code",
      "execution_count": 10,
      "metadata": {
        "colab": {
          "base_uri": "https://localhost:8080/"
        },
        "id": "82sP7Ck50ArR",
        "outputId": "4a631776-396f-45eb-fcdc-d80882b1d510"
      },
      "outputs": [
        {
          "output_type": "execute_result",
          "data": {
            "text/plain": [
              "4"
            ]
          },
          "metadata": {},
          "execution_count": 10
        }
      ],
      "source": [
        "# Number of lists in the nested list\n",
        "len(user_list)"
      ]
    },
    {
      "cell_type": "code",
      "execution_count": 11,
      "metadata": {
        "colab": {
          "base_uri": "https://localhost:8080/"
        },
        "id": "NPWeAYq20kOk",
        "outputId": "e828c186-fd1b-467d-97b5-89c861633100"
      },
      "outputs": [
        {
          "output_type": "execute_result",
          "data": {
            "text/plain": [
              "5"
            ]
          },
          "metadata": {},
          "execution_count": 11
        }
      ],
      "source": [
        "# Number of elements in list of lists\n",
        "len(user_list[0])"
      ]
    },
    {
      "cell_type": "code",
      "execution_count": 12,
      "metadata": {
        "colab": {
          "base_uri": "https://localhost:8080/"
        },
        "id": "pUcPO4ax0qN3",
        "outputId": "7e6b32dc-ffbb-4790-92e6-9ecdd716337c"
      },
      "outputs": [
        {
          "output_type": "execute_result",
          "data": {
            "text/plain": [
              "[['Alice Kim', 'Eric Lee', 'Paul Kim', 'Ben Kim', 'Brian Wu'],\n",
              " [1965, 1983, 1994, 1972, 1994],\n",
              " [58, 40, 29, 51, 29],\n",
              " [True, True, False, False, True]]"
            ]
          },
          "metadata": {},
          "execution_count": 12
        }
      ],
      "source": [
        "user_list"
      ]
    },
    {
      "cell_type": "markdown",
      "metadata": {
        "id": "ED0yakY34bmQ"
      },
      "source": [
        "## Sets"
      ]
    },
    {
      "cell_type": "code",
      "execution_count": 13,
      "metadata": {
        "id": "yXe2u-fR4EJk"
      },
      "outputs": [],
      "source": [
        "# Convert yob list into set\n",
        "user_yob = set(user_list[1])"
      ]
    },
    {
      "cell_type": "code",
      "execution_count": 14,
      "metadata": {
        "colab": {
          "base_uri": "https://localhost:8080/"
        },
        "id": "eCKRcq_r4OSE",
        "outputId": "9a78cf45-b5b3-43f4-ccd5-0ef4239e4d08"
      },
      "outputs": [
        {
          "output_type": "execute_result",
          "data": {
            "text/plain": [
              "4"
            ]
          },
          "metadata": {},
          "execution_count": 14
        }
      ],
      "source": [
        "# Find the number of unique elements in the set\n",
        "len(user_yob)"
      ]
    },
    {
      "cell_type": "code",
      "execution_count": 15,
      "metadata": {
        "id": "-7Ssg0E74vBY"
      },
      "outputs": [],
      "source": [
        "# Unique year of births\n",
        "unique_yob = set([1965, 1972, 1983, 1994, 2000])"
      ]
    },
    {
      "cell_type": "code",
      "execution_count": 16,
      "metadata": {
        "colab": {
          "base_uri": "https://localhost:8080/"
        },
        "id": "s8avlnoJ7-Pv",
        "outputId": "88fa097c-aad8-47a4-c34c-bc2a1b03629a"
      },
      "outputs": [
        {
          "output_type": "execute_result",
          "data": {
            "text/plain": [
              "{2000}"
            ]
          },
          "metadata": {},
          "execution_count": 16
        }
      ],
      "source": [
        "# Find out the year of births which are not among the unique year of births above\n",
        "unique_yob - user_yob"
      ]
    },
    {
      "cell_type": "markdown",
      "metadata": {
        "id": "fhUvvZqdEsj8"
      },
      "source": [
        "## Dictionaries"
      ]
    },
    {
      "cell_type": "code",
      "execution_count": 17,
      "metadata": {
        "colab": {
          "base_uri": "https://localhost:8080/"
        },
        "id": "wrHw5Hya8fUz",
        "outputId": "0f595c78-1301-4c2f-c67f-83f6a48972e9"
      },
      "outputs": [
        {
          "output_type": "execute_result",
          "data": {
            "text/plain": [
              "('Alice Kim', 'Eric Lee', 'Paul Kim', 'Ben Kim', 'Brian Wu')"
            ]
          },
          "metadata": {},
          "execution_count": 17
        }
      ],
      "source": [
        "# Creating a dictionary\n",
        "user_dict = {\"Names\" : ('Alice Kim', 'Eric Lee', 'Paul Kim', 'Ben Kim', 'Brian Wu'), \"yob\" : (1965, 1983, 1994, 1972, 1994), \"Age\" : (58, 40, 29, 51, 29)}\n",
        "\n",
        "user_dict[\"Names\"]"
      ]
    },
    {
      "cell_type": "code",
      "execution_count": 18,
      "metadata": {
        "id": "WuijjkfoFzVi"
      },
      "outputs": [],
      "source": [
        "# Insert new key value pair into a dictionary\n",
        "user_dict[\"Sub_status\"] = (True, True, False, False, True)"
      ]
    },
    {
      "cell_type": "code",
      "execution_count": 19,
      "metadata": {
        "colab": {
          "base_uri": "https://localhost:8080/"
        },
        "id": "OOC9z38uH5nE",
        "outputId": "ec2cf69e-7953-4c10-ca24-ba503f5be474"
      },
      "outputs": [
        {
          "output_type": "execute_result",
          "data": {
            "text/plain": [
              "{'Names': ('Alice Kim', 'Eric Lee', 'Paul Kim', 'Ben Kim', 'Brian Wu'),\n",
              " 'yob': (1965, 1983, 1994, 1972, 1994),\n",
              " 'Age': (58, 40, 29, 51, 29),\n",
              " 'Sub_status': (True, True, False, False, True)}"
            ]
          },
          "metadata": {},
          "execution_count": 19
        }
      ],
      "source": [
        "user_dict"
      ]
    },
    {
      "cell_type": "markdown",
      "metadata": {
        "id": "NCzK1Ha4Lx7V"
      },
      "source": [
        "# Problem Statement: Temperature Data set\n",
        "You are provided with data of hourly temperature readings for seven consecutive days(Mon-Sun) for a particular week in Seattle, and the objective is to extract relevant information from the dataset."
      ]
    },
    {
      "cell_type": "code",
      "execution_count": 20,
      "metadata": {
        "id": "UI7PfIdCH7f0"
      },
      "outputs": [],
      "source": [
        "# Hourly temperature data for a week\n",
        "temp_list = [\n",
        "            [281.72, 281.72, 281.71, 281.70, 281.69, 281.69, 281.68, 281.67, 281.66,\t281.66,\t281.65,\t281.64,\t281.63,\t281.63,\t281.62,\t282.71,\t285.05,\t287.97,\t290.61,\t292.06,\t293.68,\t295.32,\t295.18,\t296.11],\n",
        "            [295.24,\t294.38,\t292.28,\t291.12,\t289.93,\t287.87,\t287.14,\t286.54,\t286.16,\t285.31,\t284.30,\t283.96,\t283.60,\t283.23,\t283.50,\t284.57,\t285.64,\t286.71,\t287.42,\t288.61,\t289.13,\t289.41,\t289.18,\t288.95],\n",
        "            [288.79, 287.47,\t286.01,\t284.85,\t283.91,\t283.31,\t283.07,\t283.15,\t282.51,\t281.98,\t281.49,\t281.14,\t280.59,\t279.65,\t279.15,\t279.72,\t282.40,\t284.72,\t286.03,\t287.19,\t288.68,\t289.56,\t290.05,\t289.98],\n",
        "            [289.60,\t288.40,\t286.38,\t285.56,\t284.45,\t283.92,\t283.25,\t282.59,\t281.92,\t281.78,\t281.63,\t281.08,\t280.64,\t281.14,\t280.08,\t280.70,\t282.98,\t284.62,\t286.61,\t287.45,\t289.22,\t290.21,\t289.94,\t290.01],\n",
        "            [289.85,\t288.82,\t287.60,\t285.82,\t284.58,\t284.12,\t283.63,\t282.98,\t282.68,\t282.38,\t281.77,\t281.47,\t281.06,\t280.55,\t280.65,\t281.00,\t283.49,\t286.17,\t287.58,\t289.49,\t292.11,\t292.85,\t292.69,\t292.85],\n",
        "            [292.05,\t290.34,\t288.05,\t286.46,\t285.37,\t285.04,\t284.38,\t283.73,\t283.07,\t282.87,\t280.77,\t280.32,\t280.01,\t279.77,\t279.54,\t279.63,\t282.48,\t287.17,\t289.47,\t291.63,\t293.42,\t293.95,\t294.78,\t294.10],\n",
        "            [293.62,\t291.88,\t290.03,\t288.43,\t287.15,\t286.78,\t286.32,\t285.17,\t283.78,\t282.96,\t282.93,\t281.96,\t282.02,\t281.26,\t280.25,\t281.01,\t283.15,\t286.49,\t289.87,\t291.42,\t292.46,\t293.35,\t294.32,\t294.85],\n",
        "             ]"
      ]
    },
    {
      "cell_type": "code",
      "execution_count": 21,
      "metadata": {
        "colab": {
          "base_uri": "https://localhost:8080/"
        },
        "id": "BmAhyO9hLvul",
        "outputId": "c1575594-4443-4f62-d41d-86e52481e044"
      },
      "outputs": [
        {
          "output_type": "execute_result",
          "data": {
            "text/plain": [
              "281.14"
            ]
          },
          "metadata": {},
          "execution_count": 21
        }
      ],
      "source": [
        "# Print the temperature for Wednesday noon\n",
        "## Add the solution process\n",
        "temp_list[2][11]"
      ]
    },
    {
      "cell_type": "code",
      "execution_count": 22,
      "metadata": {
        "colab": {
          "base_uri": "https://localhost:8080/"
        },
        "id": "3Kcj-0PAPJzm",
        "outputId": "143cd48e-e82a-41d4-87eb-5f5488859c72"
      },
      "outputs": [
        {
          "output_type": "execute_result",
          "data": {
            "text/plain": [
              "290.05"
            ]
          },
          "metadata": {},
          "execution_count": 22
        }
      ],
      "source": [
        "# Print the highest temp on Wednesday\n",
        "max(temp_list[2])\n"
      ]
    },
    {
      "cell_type": "code",
      "execution_count": null,
      "metadata": {
        "id": "ji6hp-2hSwSm"
      },
      "outputs": [],
      "source": []
    }
  ],
  "metadata": {
    "colab": {
      "provenance": []
    },
    "kernelspec": {
      "display_name": "Python 3",
      "name": "python3"
    },
    "language_info": {
      "name": "python"
    }
  },
  "nbformat": 4,
  "nbformat_minor": 0
}