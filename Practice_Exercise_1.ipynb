{
  "cells": [
    {
      "cell_type": "code",
      "execution_count": 1,
      "metadata": {
        "id": "ecWKyzcFhxL5"
      },
      "outputs": [],
      "source": [
        "# Consider the string given below and answer the following questions\n",
        "string = \"OQYWFClFhFGAvIWYwGKpmZhnJiyzTslSIhSwvOsqJMEphzmifTkyqOMNpnOtXZxmCfgDYqbaBHAUvIWhMnvwZnEMVDvmEfLrDoQnAZgQEgXQVnmSYkfedpAdhrtpOgORpYLRZYGWdhWYuqQssCUXtTzKRDAhpjUheOzUroZNzWFtZOVwIapzUYtbSbjYNErzQ\"\n"
      ]
    },
    {
      "cell_type": "markdown",
      "metadata": {
        "id": "GWbSTsnShxMI"
      },
      "source": [
        "####  Calculate the number of characters in the string\n",
        "\n",
        "-  193\n",
        "-  200\n",
        "-  300\n",
        "-  500\n"
      ]
    },
    {
      "cell_type": "code",
      "execution_count": 2,
      "metadata": {
        "colab": {
          "base_uri": "https://localhost:8080/"
        },
        "id": "VO18RVa3hxMO",
        "outputId": "ea3fa362-0323-4862-e92b-21a848ad6c05"
      },
      "outputs": [
        {
          "output_type": "execute_result",
          "data": {
            "text/plain": [
              "193"
            ]
          },
          "metadata": {},
          "execution_count": 2
        }
      ],
      "source": [
        "len(string)"
      ]
    },
    {
      "cell_type": "markdown",
      "source": [
        "**Explanation for Correct Answer :-**\n",
        "- Using the len() function, you can find the length of the string or in other words number of characters in the string"
      ],
      "metadata": {
        "id": "kKMPMNWyxDBI"
      }
    },
    {
      "cell_type": "markdown",
      "metadata": {
        "id": "caYtpjmuhxMQ"
      },
      "source": [
        "#### Count the number of occurences of 'a' in the string\n",
        "\n",
        "-  1\n",
        "-  2\n",
        "-  10\n",
        "-  5"
      ]
    },
    {
      "cell_type": "code",
      "execution_count": 3,
      "metadata": {
        "colab": {
          "base_uri": "https://localhost:8080/"
        },
        "id": "zI2OpvoZhxMS",
        "outputId": "0b7ffc4c-5f7a-463b-df9a-2fa279de81eb"
      },
      "outputs": [
        {
          "output_type": "execute_result",
          "data": {
            "text/plain": [
              "2"
            ]
          },
          "metadata": {},
          "execution_count": 3
        }
      ],
      "source": [
        "string.count('a')"
      ]
    },
    {
      "cell_type": "markdown",
      "source": [
        "**Explanation for Correct Answer :-**\n",
        "- We need to find the number of times 'a' has occurred in the string.  \n",
        "- A very simple method to do that is as given above."
      ],
      "metadata": {
        "id": "-XKI_gkOxKhg"
      }
    },
    {
      "cell_type": "markdown",
      "metadata": {
        "id": "q6ucRHgchxMU"
      },
      "source": [
        "#### Identify whether the string starts with 'if'.\n",
        "\n",
        "-  True\n",
        "-  False"
      ]
    },
    {
      "cell_type": "code",
      "execution_count": 4,
      "metadata": {
        "colab": {
          "base_uri": "https://localhost:8080/"
        },
        "id": "032isRJKhxMX",
        "outputId": "1fe9bc65-5b25-4370-e308-2b45f1caff06"
      },
      "outputs": [
        {
          "output_type": "execute_result",
          "data": {
            "text/plain": [
              "False"
            ]
          },
          "metadata": {},
          "execution_count": 4
        }
      ],
      "source": [
        "string.startswith('if')"
      ]
    },
    {
      "cell_type": "markdown",
      "source": [
        "**Explanation for Correct Answer :-**\n",
        "- It is asking whether the string is starting with if or not so it will return a boolean value"
      ],
      "metadata": {
        "id": "LS0EwQLgxLvo"
      }
    },
    {
      "cell_type": "markdown",
      "metadata": {
        "id": "npMuwheHhxMZ"
      },
      "source": [
        "#### Return the substring starting at index 63 and ending at index 88  [Both the indexes are inclusive]\n",
        "\n",
        "-  'OQYWFClFhFGA'\n",
        "-  'mCfgDYqbaBHAUvIWhMnvwZnEMV'\n",
        "-  'IWYwGKpmZhnJiyzTslSIhSwv'\n",
        "-  'JMEphzmifTkyqOMNpnOtXZ'"
      ]
    },
    {
      "cell_type": "code",
      "execution_count": 5,
      "metadata": {
        "colab": {
          "base_uri": "https://localhost:8080/",
          "height": 35
        },
        "id": "M7pEskgIhxMb",
        "outputId": "7a6011cb-bf06-4f3c-c131-0080a463a209"
      },
      "outputs": [
        {
          "output_type": "execute_result",
          "data": {
            "text/plain": [
              "'mCfgDYqbaBHAUvIWhMnvwZnEMV'"
            ],
            "application/vnd.google.colaboratory.intrinsic+json": {
              "type": "string"
            }
          },
          "metadata": {},
          "execution_count": 5
        }
      ],
      "source": [
        "string[63:89]"
      ]
    },
    {
      "cell_type": "markdown",
      "source": [
        "**Explanation for Correct Answer :-**\n",
        "- Since both the starting and ending indexes are inclusive."
      ],
      "metadata": {
        "id": "aQpmG4SVxMn5"
      }
    },
    {
      "cell_type": "markdown",
      "metadata": {
        "id": "8Y8jJDSDhxMd"
      },
      "source": [
        "#### Identify the character at index 45\n",
        "\n",
        "-  a\n",
        "-  b\n",
        "-  z\n",
        "-  x"
      ]
    },
    {
      "cell_type": "code",
      "execution_count": 8,
      "metadata": {
        "colab": {
          "base_uri": "https://localhost:8080/",
          "height": 35
        },
        "id": "_tm0P7vzhxMf",
        "outputId": "8deaba3d-6dc0-4c99-828c-286a2f5dd959"
      },
      "outputs": [
        {
          "output_type": "execute_result",
          "data": {
            "text/plain": [
              "'z'"
            ],
            "application/vnd.google.colaboratory.intrinsic+json": {
              "type": "string"
            }
          },
          "metadata": {},
          "execution_count": 8
        }
      ],
      "source": [
        "string[45]"
      ]
    }
  ],
  "metadata": {
    "kernelspec": {
      "display_name": "Python 3",
      "language": "python",
      "name": "python3"
    },
    "language_info": {
      "codemirror_mode": {
        "name": "ipython",
        "version": 3
      },
      "file_extension": ".py",
      "mimetype": "text/x-python",
      "name": "python",
      "nbconvert_exporter": "python",
      "pygments_lexer": "ipython3",
      "version": "3.7.4"
    },
    "colab": {
      "provenance": []
    }
  },
  "nbformat": 4,
  "nbformat_minor": 0
}