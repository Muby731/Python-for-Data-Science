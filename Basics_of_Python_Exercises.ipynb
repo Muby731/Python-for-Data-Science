{
  "nbformat": 4,
  "nbformat_minor": 0,
  "metadata": {
    "colab": {
      "provenance": []
    },
    "kernelspec": {
      "name": "python3",
      "display_name": "Python 3"
    }
  },
  "cells": [
    {
      "cell_type": "markdown",
      "metadata": {
        "id": "e2CWWATVTFOQ"
      },
      "source": [
        "# Practice Exercise"
      ]
    },
    {
      "cell_type": "markdown",
      "metadata": {
        "id": "gxSUV29HVelr"
      },
      "source": [
        "Question 1: Let us start by printing the word \"Welcome to the practice exercise\" in python."
      ]
    },
    {
      "cell_type": "code",
      "metadata": {
        "id": "sn3vu-6dVsEP",
        "colab": {
          "base_uri": "https://localhost:8080/"
        },
        "outputId": "52328b0c-70bb-491b-832b-efd9ca072b85"
      },
      "source": [
        "# Print the statement:\n",
        "print(\"Welcome to the practice exercise\")"
      ],
      "execution_count": 1,
      "outputs": [
        {
          "output_type": "stream",
          "name": "stdout",
          "text": [
            "Welcome to the practice exercise\n"
          ]
        }
      ]
    },
    {
      "cell_type": "markdown",
      "metadata": {
        "id": "Ys8qEL-HTMA1"
      },
      "source": [
        "Question 2: Create a string variable and print the string."
      ]
    },
    {
      "cell_type": "code",
      "metadata": {
        "id": "ypmiTaqjSu_C",
        "colab": {
          "base_uri": "https://localhost:8080/"
        },
        "outputId": "fccbc1fb-62a2-457b-99ab-278ad445be61"
      },
      "source": [
        "# Create a string variable:\n",
        "\n",
        "string = \"Python is a versatile language that can be used for many different tasks.\"\n",
        "\n",
        "# Print the string:\n",
        "\n",
        "print(string)"
      ],
      "execution_count": 2,
      "outputs": [
        {
          "output_type": "stream",
          "name": "stdout",
          "text": [
            "Python is a versatile language that can be used for many different tasks.\n"
          ]
        }
      ]
    },
    {
      "cell_type": "markdown",
      "metadata": {
        "id": "SCtZJrEjUyLV"
      },
      "source": [
        "Question 3: Create a string by taking user input and print the string."
      ]
    },
    {
      "cell_type": "code",
      "metadata": {
        "id": "kuNOPj11TU10",
        "colab": {
          "base_uri": "https://localhost:8080/"
        },
        "outputId": "94ff52b0-c992-449f-d38d-912dbcfbaac7"
      },
      "source": [
        "# Create a string variable taking user input:\n",
        "\n",
        "str1 = str(input())\n",
        "\n",
        "# Print the string:\n",
        "\n",
        "print(str1)"
      ],
      "execution_count": 3,
      "outputs": [
        {
          "output_type": "stream",
          "name": "stdout",
          "text": [
            "I like baking.\n",
            "I like baking.\n"
          ]
        }
      ]
    },
    {
      "cell_type": "markdown",
      "metadata": {
        "id": "DImK3bXbVQmK"
      },
      "source": [
        "Question 4: Print the pattern given below:\n",
        "\n",
        "\n",
        "\n",
        "![image.png](data:image/png;base64,iVBORw0KGgoAAAANSUhEUgAAADIAAABFCAYAAAAIGLXIAAACvklEQVRoBe1abW7DIAzljJF6oSpXSY/SHWQ/egxPgA3GfAwxEO3kSVP4NLz3TGInNfBP/sw/wQEK5N2UVEVUkUUMqGstInbYrCoyTN2iiarIImKHzaoiPdS9HgcYY+D86hn9tzGLFHnBdTNwPC44PxmIVcKr8PxsINFJFEjkorO06IzQ6qoIMdF9VUWaVH2d7vlhnyH8f+XzZLEiTbhTOxXIVDonGFNFJpA41YQqMpXOCcZUkQkkTjWhikAShhxwfTOCvy84eHhyu+DFukORxtX6w8DfC4OK2PD8hCfa97l5rMtln3cD5k6jqdenw+f9BLMPCG0Gr45ZoQob4oAKIK7NArDKfgYQZJ6/SeHA3weI32jmOvwMCcatqx0PPDXvAsT5v9go8ypfdKDwDMmNy3o2ua9h8LB74w4EO/T1Je3NwZ8hPydNuCj5+kviNQykHwRAONglpFsVofs/f1bYMt2ZnCsx1luutxVIidnNbcOutXnf2fIKJKNkc4MqslmAbHlVJKNkc4MqslmAbPmqIj7rY2FG6aNmEqrExKoWGMag0H8AomDRyMAzsdv3VbgJJOQMGX4An7PHzZeGhDaeSEGeaDngFKeB+MqVzA0Ws8IgELuZThCA0W+y0XQuT4VLkbIF2iQVoP7jTGuwOtmxdMKFPwhwLlKNcGMuQjQmKQC6EbkdB0XjS23UR9emItGHWYhuZ2KYHoFW0t1MDVo22jCYcIUe6UoINKQIYWBaqAJJh4mNlnKIUpv0dzTqFCEFM1LQFSnXuV3wbHkH2uwEIvwcXSt5U1UAUvJ3kIzbjTgw7fdi5HopwbHWBwTljca8QtK1Yt0uIO4+tGZmCyBRiMbh1fWFG4XoZNUKEHQlklf6sTOQPgtSEO3N0RkLZ5DcrMMu23tSrABJxnxERYG8m0yqiCqyiAF1rUXEDpv9AT7GtDRI+0oLAAAAAElFTkSuQmCC)"
      ]
    },
    {
      "cell_type": "code",
      "metadata": {
        "id": "DkSe8TvcVPMK",
        "colab": {
          "base_uri": "https://localhost:8080/"
        },
        "outputId": "576e5c79-1b4c-4c99-c51d-836387d7a0c6"
      },
      "source": [
        "# Print the pattern shown in the question above:\n",
        "print('  1  ')\n",
        "print(' 234 ')\n",
        "print('56789')"
      ],
      "execution_count": 6,
      "outputs": [
        {
          "output_type": "stream",
          "name": "stdout",
          "text": [
            "  1  \n",
            " 234 \n",
            "56789\n"
          ]
        }
      ]
    },
    {
      "cell_type": "markdown",
      "metadata": {
        "id": "wmEibYOCXoUV"
      },
      "source": [
        "Question 5: Print the '#' symbol 15 times without having to type it for 15 times."
      ]
    },
    {
      "cell_type": "code",
      "metadata": {
        "id": "ca4yCx9OXfyt",
        "colab": {
          "base_uri": "https://localhost:8080/"
        },
        "outputId": "01494f46-4048-4ae6-fc06-9a769ce40fb7"
      },
      "source": [
        "# Print the pattern shown in the question above:\n",
        "print('#' * 15)"
      ],
      "execution_count": 7,
      "outputs": [
        {
          "output_type": "stream",
          "name": "stdout",
          "text": [
            "###############\n"
          ]
        }
      ]
    },
    {
      "cell_type": "markdown",
      "metadata": {
        "id": "pCh5QAyGYdWe"
      },
      "source": [
        "Question 6: Take the user input to print the current date"
      ]
    },
    {
      "cell_type": "code",
      "metadata": {
        "id": "uO-kTgb7XoJZ",
        "colab": {
          "base_uri": "https://localhost:8080/"
        },
        "outputId": "17d22608-f141-45c4-c083-250f63dfdba6"
      },
      "source": [
        "# Take the user input into a string:\n",
        "string = str(input(\"Enter the date = \"))\n",
        "\n",
        "# Print the date:\n",
        "print(string)"
      ],
      "execution_count": 10,
      "outputs": [
        {
          "output_type": "stream",
          "name": "stdout",
          "text": [
            "Enter the date = 21-12-2023\n",
            "21-12-2023\n"
          ]
        }
      ]
    },
    {
      "cell_type": "markdown",
      "metadata": {
        "id": "WzkRCuNYZOnp"
      },
      "source": [
        "Question 7: Type cast the integer 1.8 into a string and print the result."
      ]
    },
    {
      "cell_type": "code",
      "metadata": {
        "id": "tv7dzZX2YdFH",
        "colab": {
          "base_uri": "https://localhost:8080/"
        },
        "outputId": "946b45bd-a606-4c48-8e1a-efe411046e06"
      },
      "source": [
        "# Store the interger as a variable:\n",
        "var = 1.8\n",
        "# Typecast the integer:\n",
        "result = str(var)\n",
        "# Print the result:\n",
        "print(result)"
      ],
      "execution_count": 11,
      "outputs": [
        {
          "output_type": "stream",
          "name": "stdout",
          "text": [
            "1.8\n"
          ]
        }
      ]
    },
    {
      "cell_type": "markdown",
      "metadata": {
        "id": "IP5LMF00bATM"
      },
      "source": [
        "Question 8: Find the product of two numbers input by the user."
      ]
    },
    {
      "cell_type": "code",
      "metadata": {
        "id": "_REzzqdwa3Gp",
        "colab": {
          "base_uri": "https://localhost:8080/"
        },
        "outputId": "3251e9dc-4052-41a2-d0bb-ab6bba92e24a"
      },
      "source": [
        "# Take input of the first number and store it in a variable:\n",
        "a = int(input(\"Enter 1st number = \"))\n",
        "# Take input of the second number and store it in a variable:\n",
        "b = int(input(\"Enter 2nd number = \"))\n",
        "# You will need to typecast the input strings into integers\n",
        "# Calculate the product:\n",
        "prod = a*b\n",
        "# Print the result:\n",
        "print(prod)"
      ],
      "execution_count": 12,
      "outputs": [
        {
          "output_type": "stream",
          "name": "stdout",
          "text": [
            "Enter 1st number = 34\n",
            "Enter 2nd number = 30\n",
            "1020\n"
          ]
        }
      ]
    },
    {
      "cell_type": "markdown",
      "metadata": {
        "id": "041d-OjCcXt9"
      },
      "source": [
        "Question 9: Calculate the remainder of the number 6 when divided by the number 4."
      ]
    },
    {
      "cell_type": "code",
      "metadata": {
        "id": "rLigN9eFb1JT",
        "colab": {
          "base_uri": "https://localhost:8080/"
        },
        "outputId": "39eed25f-15d5-49d8-9cb3-a3438711849a"
      },
      "source": [
        "# Find the modulus and print the result:\n",
        "print(f\"Remainder = {6%4}\")"
      ],
      "execution_count": 14,
      "outputs": [
        {
          "output_type": "stream",
          "name": "stdout",
          "text": [
            "Remainder = 2\n"
          ]
        }
      ]
    },
    {
      "cell_type": "markdown",
      "metadata": {
        "id": "xyFL6iLUczpm"
      },
      "source": [
        "Question 10: Solve the error in code below and print the correct result."
      ]
    },
    {
      "cell_type": "code",
      "metadata": {
        "id": "DX_mc1H8cyRC",
        "colab": {
          "base_uri": "https://localhost:8080/"
        },
        "outputId": "e3dee788-2961-46fb-9954-4bd077dd6c2f"
      },
      "source": [
        "# Given:\n",
        "\n",
        "# print('I can't study any longer')\n",
        "\n",
        "# Corrected solution:\n",
        "print('I can\\'t study any longer')"
      ],
      "execution_count": 17,
      "outputs": [
        {
          "output_type": "stream",
          "name": "stdout",
          "text": [
            "I can't study any longer\n"
          ]
        }
      ]
    },
    {
      "cell_type": "markdown",
      "metadata": {
        "id": "MsVRoye5daZG"
      },
      "source": [
        "Question 11: Print the following statement using only 1 print statement:\n",
        "\n",
        "Hello\n",
        "\n",
        "Good Morning"
      ]
    },
    {
      "cell_type": "code",
      "metadata": {
        "id": "PqnV_g10dOzS",
        "colab": {
          "base_uri": "https://localhost:8080/"
        },
        "outputId": "21bc5692-944e-474d-8792-a55f6512e105"
      },
      "source": [
        "# Print the required statement:\\\n",
        "\n",
        "print('Hello\\nGood Morning')"
      ],
      "execution_count": 22,
      "outputs": [
        {
          "output_type": "stream",
          "name": "stdout",
          "text": [
            "Hello\n",
            "Good Morning\n"
          ]
        }
      ]
    },
    {
      "cell_type": "markdown",
      "metadata": {
        "id": "r8xXSTHRd5RT"
      },
      "source": [
        "Question 12: Concatenate the given strings and print the result:\n"
      ]
    },
    {
      "cell_type": "code",
      "metadata": {
        "id": "PuwSE5uidy24",
        "colab": {
          "base_uri": "https://localhost:8080/"
        },
        "outputId": "e40797da-4c8b-45f9-bd5b-6f3981cbc7fa"
      },
      "source": [
        "# Given below are the two strings:\n",
        "string1= 'Welcome to upgrad'\n",
        "string2= 'coding practice session.'\n",
        "\n",
        "# Concatenate and print the result:\n",
        "print(string1 + string2)\n",
        "print(string1 + \" \" + string2)"
      ],
      "execution_count": 26,
      "outputs": [
        {
          "output_type": "stream",
          "name": "stdout",
          "text": [
            "Welcome to upgradcoding practice session.\n",
            "Welcome to upgrad coding practice session.\n"
          ]
        }
      ]
    },
    {
      "cell_type": "markdown",
      "metadata": {
        "id": "QpkUZwCsefdt"
      },
      "source": [
        "Question 13: Find the length of string given below and print the result.\n"
      ]
    },
    {
      "cell_type": "code",
      "metadata": {
        "id": "24Am9RaseEXP",
        "colab": {
          "base_uri": "https://localhost:8080/"
        },
        "outputId": "acdb0077-e9dd-461f-ecde-a5c00cc073ca"
      },
      "source": [
        "# Given below is the string:\n",
        "string = 'Python is an interpreted, object-oriented, high-level programming language with dynamic semantics'\n",
        "# Calculate and print the length:\n",
        "print(len(string))"
      ],
      "execution_count": 28,
      "outputs": [
        {
          "output_type": "stream",
          "name": "stdout",
          "text": [
            "97\n"
          ]
        }
      ]
    },
    {
      "cell_type": "markdown",
      "metadata": {
        "id": "KoVEaa4QfMb_"
      },
      "source": [
        "Question 14: Create a string of length=10. Obtain the fifth and seventh character of the string. Concatenate the characters and form a new string. Print the new string."
      ]
    },
    {
      "cell_type": "code",
      "metadata": {
        "id": "U-356eSce6UM",
        "colab": {
          "base_uri": "https://localhost:8080/"
        },
        "outputId": "e2a804f2-9003-445d-a148-d3d75432915a"
      },
      "source": [
        "# Create a string of length 10:\n",
        "string = 'Psychology'\n",
        "\n",
        "# You can verify the length:\n",
        "print(f\"Length = {len(string)}\")\n",
        "# Obtain the fifth letter and store it into a new string:\n",
        "new_str1 = string[4]\n",
        "# Obtain the seventh letter and store it into a new string:\n",
        "new_str2 = string[6]\n",
        "# Concatenate the two strings:\n",
        "result = new_str1 + new_str2\n",
        "# Print the result:\n",
        "print(result)"
      ],
      "execution_count": 31,
      "outputs": [
        {
          "output_type": "stream",
          "name": "stdout",
          "text": [
            "Length = 10\n",
            "hl\n"
          ]
        }
      ]
    },
    {
      "cell_type": "markdown",
      "metadata": {
        "id": "-9wQ6PQtzNi3"
      },
      "source": [
        "Question 15: Given below is a string. Perform the following operations and print the results:\n",
        "1. Remove the extra spaces from the string and print the new string.\n",
        "2. Find the length of new string\n",
        "3. Remove the last 5 characters of the new string\n",
        "4. Find the 15th character of the new string\n",
        "5. Compute the result of concatenation of the first and last letter of the new string.\n"
      ]
    },
    {
      "cell_type": "code",
      "metadata": {
        "id": "T9GOWY_JyErD",
        "colab": {
          "base_uri": "https://localhost:8080/"
        },
        "outputId": "c78ab26c-7d6a-43ac-d05e-12ab673804d6"
      },
      "source": [
        "# Given below is the string:\n",
        "line= '     I hope you enjoyed this practice session.'\n",
        "\n",
        "# Removing extra spaces:\n",
        "result = line.strip()\n",
        "# Print the result:\n",
        "print(result)\n",
        "# Calculate the length:\n",
        "print(len(result))\n",
        "# Slice the string to remove the last 5 characters:\n",
        "new_result = result[:-5]\n",
        "# Print the result:\n",
        "print(new_result)\n",
        "# Print the 15th character of the string:\n",
        "print(new_result[14])\n",
        "# Print the concatenation of first and last character of resulting string:\n",
        "print(new_result[0]+new_result[-1])"
      ],
      "execution_count": 35,
      "outputs": [
        {
          "output_type": "stream",
          "name": "stdout",
          "text": [
            "I hope you enjoyed this practice session.\n",
            "41\n",
            "I hope you enjoyed this practice ses\n",
            "o\n",
            "Is\n"
          ]
        }
      ]
    },
    {
      "cell_type": "code",
      "source": [],
      "metadata": {
        "id": "V_QbtDSyv5bU"
      },
      "execution_count": null,
      "outputs": []
    }
  ]
}