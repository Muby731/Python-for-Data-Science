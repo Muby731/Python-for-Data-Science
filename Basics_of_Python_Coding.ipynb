{
  "cells": [
    {
      "cell_type": "markdown",
      "metadata": {
        "id": "ZstrsgRYu7u_"
      },
      "source": [
        "# Session 1: Basics of Python"
      ]
    },
    {
      "cell_type": "markdown",
      "metadata": {
        "id": "82Pyd7UySXrK"
      },
      "source": [
        "# Problem Statement\n",
        "\n",
        "A software company is developing a new user management system that contains information about their:\n",
        "- `name` - The name of the user\n",
        "- `date of birth` - The date of birth of the user\n",
        "- `age` - The age of the user\n",
        "- `subscription status` - The subscription status is represented by a boolean value, where \"True\" indicates an active subscription and \"False\" indicates an inactive subscription.\n",
        "\n",
        "As a business analyst, your task is to use these details and extract useful information from them, using basic Python operations.\n",
        "\n",
        "---\n",
        "\n"
      ]
    },
    {
      "cell_type": "markdown",
      "metadata": {
        "id": "3UsLTZqd1bBS"
      },
      "source": [
        "The company wants to generate user IDs from the user's name, age, year of birth, and subscription status by using string formatting to generate the user IDs."
      ]
    },
    {
      "cell_type": "code",
      "execution_count": null,
      "metadata": {
        "id": "7RL0W3mm5i14"
      },
      "outputs": [],
      "source": [
        "# User details on name, year of birth and age\n",
        "name = 'Alice Kim'\n",
        "yob\t= 1965\n",
        "age\t= 58"
      ]
    },
    {
      "cell_type": "code",
      "source": [
        "name+str(yob)+str(age)"
      ],
      "metadata": {
        "colab": {
          "base_uri": "https://localhost:8080/",
          "height": 35
        },
        "id": "PUHPH99rZ6i1",
        "outputId": "82224323-7858-4fc9-dc1c-ec91e8902e47"
      },
      "execution_count": null,
      "outputs": [
        {
          "output_type": "execute_result",
          "data": {
            "text/plain": [
              "'Alice Kim196558'"
            ],
            "application/vnd.google.colaboratory.intrinsic+json": {
              "type": "string"
            }
          },
          "metadata": {},
          "execution_count": 2
        }
      ]
    },
    {
      "cell_type": "code",
      "execution_count": null,
      "metadata": {
        "id": "M8S-OyEoH80v",
        "colab": {
          "base_uri": "https://localhost:8080/"
        },
        "outputId": "8643bdb6-48c6-493e-c9c8-341f61fad9cd"
      },
      "outputs": [
        {
          "output_type": "stream",
          "name": "stdout",
          "text": [
            "The user_id for the user Alice Kim with year of birth 1965 and age 58 is Alice Kim196558\n"
          ]
        }
      ],
      "source": [
        "# Extract user id using string formatting - user's name + yob + age without any whitespaces\n",
        "user_id = name+str(yob)+str(age)\n",
        "print(\"The user_id for the user {} with year of birth {} and age {} is {}\".format(name,yob,age,user_id))"
      ]
    },
    {
      "cell_type": "code",
      "execution_count": null,
      "metadata": {
        "id": "gyDTK9xmAl8K",
        "colab": {
          "base_uri": "https://localhost:8080/"
        },
        "outputId": "39b3c687-cb0f-4ee9-c67e-36f1f5f3749e"
      },
      "outputs": [
        {
          "output_type": "stream",
          "name": "stdout",
          "text": [
            "The user_id for the user Alice Kim with year of birth 1965 and age 58 is Alice_Kim196558\n"
          ]
        }
      ],
      "source": [
        "# Remove space and add an underscore in the name and use that as the id\n",
        "user_id = name.replace(\" \",\"_\") + str(yob) + str(age)\n",
        "print(f\"The user_id for the user {name} with year of birth {yob} and age {age} is {user_id}\")"
      ]
    },
    {
      "cell_type": "markdown",
      "metadata": {
        "id": "9a4SJLMO4n4V"
      },
      "source": [
        "The company needs to validate the length of user names to ensure none of the users' names are neither too long nor too short."
      ]
    },
    {
      "cell_type": "code",
      "execution_count": null,
      "metadata": {
        "id": "lE6cdI37mxWT",
        "colab": {
          "base_uri": "https://localhost:8080/"
        },
        "outputId": "57d7473a-1f42-4f1e-b1de-4b6acd358bbd"
      },
      "outputs": [
        {
          "output_type": "execute_result",
          "data": {
            "text/plain": [
              "9"
            ]
          },
          "metadata": {},
          "execution_count": 5
        }
      ],
      "source": [
        "# Find the length of the name\n",
        "len(name)"
      ]
    },
    {
      "cell_type": "code",
      "source": [
        "First_name = name.split()[0][0]\n",
        "Last_name  = name.split()[1][0]\n",
        "First_name + Last_name"
      ],
      "metadata": {
        "colab": {
          "base_uri": "https://localhost:8080/",
          "height": 35
        },
        "id": "ryVvCKAIcgXy",
        "outputId": "a7faadd3-3892-4174-e04d-1823df9b994f"
      },
      "execution_count": null,
      "outputs": [
        {
          "output_type": "execute_result",
          "data": {
            "text/plain": [
              "'AK'"
            ],
            "application/vnd.google.colaboratory.intrinsic+json": {
              "type": "string"
            }
          },
          "metadata": {},
          "execution_count": 6
        }
      ]
    },
    {
      "cell_type": "code",
      "execution_count": null,
      "metadata": {
        "id": "PYZTQ_HzH-a-",
        "colab": {
          "base_uri": "https://localhost:8080/"
        },
        "outputId": "3a06a150-1d47-4653-86b1-fd78a642f96b"
      },
      "outputs": [
        {
          "output_type": "stream",
          "name": "stdout",
          "text": [
            "The user_id for the user Alice Kim with year of birth 1965 and age 58 is AK196558\n"
          ]
        }
      ],
      "source": [
        "## Extract fixed length user_ids using only the first letter of the first name and the last name.\n",
        "user_id = First_name + Last_name + str(yob) + str(age)\n",
        "print(f\"The user_id for the user {name} with year of birth {yob} and age {age} is {user_id}\")"
      ]
    },
    {
      "cell_type": "markdown",
      "metadata": {
        "id": "ff3yxIpX4OLE"
      },
      "source": [
        "The company needs to split user-provided full names into separate first and last name fields. The full name strings may contain leading or trailing whitespace, as well as mixed case text. The company wants to ensure that the first and last names are accurately extracted from the full name strings, while also handling any formatting inconsistencies."
      ]
    },
    {
      "cell_type": "code",
      "execution_count": null,
      "metadata": {
        "id": "m6TOmiUF44oX",
        "colab": {
          "base_uri": "https://localhost:8080/"
        },
        "outputId": "716e89d8-4f91-42fe-e0c5-14ebb835ef24"
      },
      "outputs": [
        {
          "output_type": "stream",
          "name": "stdout",
          "text": [
            "First Name: alice\n",
            "Last Name: kim\n"
          ]
        }
      ],
      "source": [
        "full_name = \"   Alice Kim  \"\n",
        "\n",
        "# Trim whitespace and lowercase text\n",
        "full_name = full_name.strip().lower()\n",
        "\n",
        "# Split full name into first and last name\n",
        "first_name, last_name = full_name.split()\n",
        "\n",
        "print(\"First Name:\", first_name)\n",
        "print(\"Last Name:\", last_name)"
      ]
    },
    {
      "cell_type": "markdown",
      "metadata": {
        "id": "-CILyMsvZwA3"
      },
      "source": [
        "Write a Python program to extract the month value from the \"DOB\"."
      ]
    },
    {
      "cell_type": "code",
      "execution_count": null,
      "metadata": {
        "id": "iYj5r-WRqfv4",
        "colab": {
          "base_uri": "https://localhost:8080/"
        },
        "outputId": "6af61287-2e3c-43d8-d3aa-81b8ebc35256"
      },
      "outputs": [
        {
          "output_type": "stream",
          "name": "stdout",
          "text": [
            "Month: 05\n"
          ]
        }
      ],
      "source": [
        "# Slice string date to obtain month value\n",
        "date_string = \"23-05-1965\"\n",
        "\n",
        "# Use string slicing to extract the month value\n",
        "month = date_string[3:5]\n",
        "\n",
        "print(\"Month:\", month)"
      ]
    },
    {
      "cell_type": "code",
      "source": [],
      "metadata": {
        "id": "abyPb0UdgO7M"
      },
      "execution_count": null,
      "outputs": []
    }
  ],
  "metadata": {
    "colab": {
      "provenance": []
    },
    "kernelspec": {
      "display_name": "Python 3",
      "name": "python3"
    },
    "language_info": {
      "name": "python"
    }
  },
  "nbformat": 4,
  "nbformat_minor": 0
}