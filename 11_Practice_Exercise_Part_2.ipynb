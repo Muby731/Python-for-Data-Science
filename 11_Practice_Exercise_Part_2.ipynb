{
  "cells": [
    {
      "cell_type": "code",
      "execution_count": 1,
      "metadata": {
        "id": "tHZqdKiBKZeX"
      },
      "outputs": [],
      "source": [
        "# employee data with key as id of the employee and values as age of the employee\n",
        "Employee_data ={101: 43, 102: 25, 103: 43, 104: 31, 105: 26, 106: 28, 107: 29, 108: 43, 109: 25, 110: 22, 111: 22, 112: 25, 113: 30, 115: 45, 116: 23, 117: 29, 118: 28, 119: 30, 120: 28, 121: 42, 122: 39, 123: 29, 124: 42, 125: 43, 126: 42, 127: 40, 128: 27, 129: 23, 130: 30, 131: 37, 132: 20, 133: 36, 134: 27, 135: 27, 136: 22, 137: 28, 138: 23, 139: 45, 140: 39, 141: 29, 142: 33, 143: 39, 145: 34, 146: 26, 147: 30, 148: 38, 149: 29, 150: 24, 151: 28, 152: 34, 153: 42, 154: 29, 155: 23, 156: 31, 158: 25, 160: 45, 161: 42, 162: 27, 163: 24, 164: 20, 166: 24, 167: 28, 168: 20, 169: 33, 170: 34, 171: 37, 172: 45, 173: 35, 174: 23, 175: 44, 176: 27, 177: 30, 178: 26, 179: 27}"
      ]
    },
    {
      "cell_type": "markdown",
      "metadata": {
        "id": "NwzAi_hIKZeg"
      },
      "source": [
        "#### Identify the senior most employees age\n",
        "\n",
        "- 45\n",
        "- 44\n",
        "- 48\n",
        "- 42"
      ]
    },
    {
      "cell_type": "code",
      "execution_count": 2,
      "metadata": {
        "colab": {
          "base_uri": "https://localhost:8080/"
        },
        "id": "KrQfRBqeKZek",
        "outputId": "1857e2c8-400d-4fa8-865e-4cb6e0b79e05"
      },
      "outputs": [
        {
          "output_type": "execute_result",
          "data": {
            "text/plain": [
              "45"
            ]
          },
          "metadata": {},
          "execution_count": 2
        }
      ],
      "source": [
        "max(Employee_data.values())"
      ]
    },
    {
      "cell_type": "markdown",
      "metadata": {
        "id": "FAItQE2hKZel"
      },
      "source": [
        "#### Identify the age of the employee with employee id 159 [ If the employee isn't present return NA]\n",
        "\n",
        "- 25\n",
        "- 32\n",
        "- NA\n",
        "- 42"
      ]
    },
    {
      "cell_type": "code",
      "execution_count": 3,
      "metadata": {
        "colab": {
          "base_uri": "https://localhost:8080/",
          "height": 35
        },
        "id": "-1yczNUEKZem",
        "outputId": "c4e5088b-4f49-4188-e3e4-e67403484ebc"
      },
      "outputs": [
        {
          "output_type": "execute_result",
          "data": {
            "text/plain": [
              "'NA'"
            ],
            "application/vnd.google.colaboratory.intrinsic+json": {
              "type": "string"
            }
          },
          "metadata": {},
          "execution_count": 3
        }
      ],
      "source": [
        "Employee_data[159] = 'NA'\n",
        "Employee_data[159]"
      ]
    },
    {
      "cell_type": "markdown",
      "metadata": {
        "id": "YM3GfwmcKZen"
      },
      "source": [
        "#### Count the total number of employee in the organization\n",
        "\n",
        "- 79\n",
        "- 78\n",
        "- 60\n",
        "- 74"
      ]
    },
    {
      "cell_type": "code",
      "execution_count": 4,
      "metadata": {
        "colab": {
          "base_uri": "https://localhost:8080/"
        },
        "id": "UUvJjj8lKZeo",
        "outputId": "c9b0368e-3887-4f06-cb08-ee738b3a1b22"
      },
      "outputs": [
        {
          "output_type": "execute_result",
          "data": {
            "text/plain": [
              "75"
            ]
          },
          "metadata": {},
          "execution_count": 4
        }
      ],
      "source": [
        "len(Employee_data)"
      ]
    },
    {
      "cell_type": "markdown",
      "metadata": {
        "id": "LfPF4HPYKZeq"
      },
      "source": [
        "#### Calculate the mean age of the employees\n",
        "\n",
        "- 31.36\n",
        "- 36.48\n",
        "- 28.77\n",
        "- 32.47"
      ]
    },
    {
      "cell_type": "code",
      "execution_count": 5,
      "metadata": {
        "id": "hM6w4QDSKZer"
      },
      "outputs": [],
      "source": [
        "del Employee_data[159]"
      ]
    },
    {
      "cell_type": "code",
      "source": [
        "round(sum(Employee_data.values())/74,2)"
      ],
      "metadata": {
        "colab": {
          "base_uri": "https://localhost:8080/"
        },
        "id": "ZJBG0fk2M4Tk",
        "outputId": "bef454e8-afb6-4a69-9145-f7786ab31809"
      },
      "execution_count": 6,
      "outputs": [
        {
          "output_type": "execute_result",
          "data": {
            "text/plain": [
              "31.36"
            ]
          },
          "metadata": {},
          "execution_count": 6
        }
      ]
    },
    {
      "cell_type": "markdown",
      "metadata": {
        "id": "hfGCeIw5KZes"
      },
      "source": [
        "#### Perform the following two tasks and then calculate the updated mean age of the employees\n",
        "Task1 Update the ages of employee id - 104,140, and 164 as 27 <br>\n",
        "Task2 Remove the employ with employee id - 143 <br>\n",
        "\n",
        "- 30.71\n",
        "- 31.36\n",
        "- 30.13\n",
        "- 31.13\n"
      ]
    },
    {
      "cell_type": "code",
      "execution_count": 7,
      "metadata": {
        "colab": {
          "base_uri": "https://localhost:8080/"
        },
        "id": "ASblRq6CKZes",
        "outputId": "93f66b6e-240d-4f4a-8106-de7e233bcec7"
      },
      "outputs": [
        {
          "output_type": "execute_result",
          "data": {
            "text/plain": [
              "31.136986301369863"
            ]
          },
          "metadata": {},
          "execution_count": 7
        }
      ],
      "source": [
        "# Task 1 :-\n",
        "\n",
        "d1 = {104: 27, 140:27, 164:27}\n",
        "Employee_data.update(d1)\n",
        "\n",
        "# Task 2 :-\n",
        "\n",
        "del Employee_data[143]\n",
        "\n",
        "# Task 3 :-\n",
        "\n",
        "sum(Employee_data.values())/len(Employee_data)"
      ]
    }
  ],
  "metadata": {
    "kernelspec": {
      "display_name": "Python 3",
      "language": "python",
      "name": "python3"
    },
    "language_info": {
      "codemirror_mode": {
        "name": "ipython",
        "version": 3
      },
      "file_extension": ".py",
      "mimetype": "text/x-python",
      "name": "python",
      "nbconvert_exporter": "python",
      "pygments_lexer": "ipython3",
      "version": "3.7.3"
    },
    "colab": {
      "provenance": []
    }
  },
  "nbformat": 4,
  "nbformat_minor": 0
}